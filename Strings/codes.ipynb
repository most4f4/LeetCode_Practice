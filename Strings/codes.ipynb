{
 "cells": [
  {
   "cell_type": "markdown",
   "id": "b7c53d8c",
   "metadata": {},
   "source": [
    "**151. Reverse Words in a String**"
   ]
  },
  {
   "cell_type": "code",
   "execution_count": 4,
   "id": "d79f19d4",
   "metadata": {},
   "outputs": [
    {
     "name": "stdout",
     "output_type": "stream",
     "text": [
      "blue is sky the\n"
     ]
    }
   ],
   "source": [
    "def reverseWords(s):\n",
    "    temp = s.split()\n",
    "    result = \"\"\n",
    "\n",
    "    for i in range(len(temp) - 1, -1, -1):\n",
    "        result += temp[i]\n",
    "        if i != 0:\n",
    "            result += \" \"\n",
    "    return result\n",
    "\n",
    "\n",
    "s = \"the sky is blue\"\n",
    "print(reverseWords(s))\n",
    "\n",
    "# Alternative\n",
    "# lst = list(s.strip(\" \").split())\n",
    "# return (\" \".join(lst[::-1]))"
   ]
  },
  {
   "cell_type": "markdown",
   "id": "392f14b7",
   "metadata": {},
   "source": [
    "**344. Reverse String — List of characters (in-place)**"
   ]
  },
  {
   "cell_type": "code",
   "execution_count": 5,
   "id": "534cfb26",
   "metadata": {},
   "outputs": [
    {
     "name": "stdout",
     "output_type": "stream",
     "text": [
      "['o', 'l', 'l', 'e', 'h']\n"
     ]
    }
   ],
   "source": [
    "def reverse_string_inPlace(s: list[str]) -> None:\n",
    "\n",
    "    # built-in method: \n",
    "    # return s.reverse()\n",
    "\n",
    "    # Slicing\n",
    "    # s[:] = s[::-1]\n",
    "\n",
    "    left, right = 0, len(s) - 1\n",
    "\n",
    "    while left < right:\n",
    "        s[left], s[right] = s[right], s[left]\n",
    "        left += 1\n",
    "        right -= 1\n",
    "    \n",
    "str = ['h', 'e', 'l', 'l', 'o']\n",
    "reverse_string_inPlace(str)\n",
    "print (str)"
   ]
  },
  {
   "cell_type": "markdown",
   "id": "dfa3799c",
   "metadata": {},
   "source": [
    "**541. Reverse String II**"
   ]
  },
  {
   "cell_type": "code",
   "execution_count": 6,
   "id": "c6d97c8e",
   "metadata": {},
   "outputs": [
    {
     "name": "stdout",
     "output_type": "stream",
     "text": [
      "bacdfeg\n"
     ]
    }
   ],
   "source": [
    "def reverseStr(s, k):\n",
    "\n",
    "    s = list(s) \n",
    "\n",
    "    for i in range(0, len(s), 2 * k):\n",
    "        # reverse first k characters in this 2k block\n",
    "        s[i:i+k] = reversed(s[i:i+k])\n",
    "\n",
    "    return \"\".join(s)\n",
    "\n",
    "s = \"abcdefg\"\n",
    "print(reverseStr(s, 2))"
   ]
  }
 ],
 "metadata": {
  "kernelspec": {
   "display_name": "Python 3",
   "language": "python",
   "name": "python3"
  },
  "language_info": {
   "codemirror_mode": {
    "name": "ipython",
    "version": 3
   },
   "file_extension": ".py",
   "mimetype": "text/x-python",
   "name": "python",
   "nbconvert_exporter": "python",
   "pygments_lexer": "ipython3",
   "version": "3.13.1"
  }
 },
 "nbformat": 4,
 "nbformat_minor": 5
}
