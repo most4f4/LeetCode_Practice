{
 "cells": [
  {
   "cell_type": "markdown",
   "id": "e499f63f",
   "metadata": {},
   "source": [
    "# Key Patters\n",
    "\n",
    "**3. Longest Substring Without Repeating Characters**\n",
    "- Sliding Window (Two Pointers + Set)\n",
    "- Expand right pointer, shrink left when duplicate found"
   ]
  },
  {
   "cell_type": "markdown",
   "id": "b7c53d8c",
   "metadata": {},
   "source": [
    "**151. Reverse Words in a String**"
   ]
  },
  {
   "cell_type": "code",
   "execution_count": 4,
   "id": "d79f19d4",
   "metadata": {},
   "outputs": [
    {
     "name": "stdout",
     "output_type": "stream",
     "text": [
      "blue is sky the\n"
     ]
    }
   ],
   "source": [
    "def reverseWords(s):\n",
    "    temp = s.split()\n",
    "    result = \"\"\n",
    "\n",
    "    for i in range(len(temp) - 1, -1, -1):\n",
    "        result += temp[i]\n",
    "        if i != 0:\n",
    "            result += \" \"\n",
    "    return result\n",
    "\n",
    "\n",
    "s = \"the sky is blue\"\n",
    "print(reverseWords(s))\n",
    "\n",
    "# Alternative\n",
    "# lst = list(s.strip(\" \").split())\n",
    "# return (\" \".join(lst[::-1]))"
   ]
  },
  {
   "cell_type": "markdown",
   "id": "392f14b7",
   "metadata": {},
   "source": [
    "**344. Reverse String — List of characters (in-place)**"
   ]
  },
  {
   "cell_type": "code",
   "execution_count": 5,
   "id": "534cfb26",
   "metadata": {},
   "outputs": [
    {
     "name": "stdout",
     "output_type": "stream",
     "text": [
      "['o', 'l', 'l', 'e', 'h']\n"
     ]
    }
   ],
   "source": [
    "def reverse_string_inPlace(s: list[str]) -> None:\n",
    "\n",
    "    # built-in method: \n",
    "    # return s.reverse()\n",
    "\n",
    "    # Slicing\n",
    "    # s[:] = s[::-1]\n",
    "\n",
    "    left, right = 0, len(s) - 1\n",
    "\n",
    "    while left < right:\n",
    "        s[left], s[right] = s[right], s[left]\n",
    "        left += 1\n",
    "        right -= 1\n",
    "    \n",
    "str = ['h', 'e', 'l', 'l', 'o']\n",
    "reverse_string_inPlace(str)\n",
    "print (str)"
   ]
  },
  {
   "cell_type": "markdown",
   "id": "dfa3799c",
   "metadata": {},
   "source": [
    "**541. Reverse String II**"
   ]
  },
  {
   "cell_type": "code",
   "execution_count": 6,
   "id": "c6d97c8e",
   "metadata": {},
   "outputs": [
    {
     "name": "stdout",
     "output_type": "stream",
     "text": [
      "bacdfeg\n"
     ]
    }
   ],
   "source": [
    "def reverseStr(s, k):\n",
    "\n",
    "    s = list(s) \n",
    "\n",
    "    for i in range(0, len(s), 2 * k):\n",
    "        # reverse first k characters in this 2k block\n",
    "        s[i:i+k] = reversed(s[i:i+k])\n",
    "\n",
    "    return \"\".join(s)\n",
    "\n",
    "s = \"abcdefg\"\n",
    "print(reverseStr(s, 2))"
   ]
  },
  {
   "cell_type": "markdown",
   "id": "8fb8fbd2",
   "metadata": {},
   "source": [
    "**.3  Longest Substring Without Repeating Characters**"
   ]
  },
  {
   "cell_type": "code",
   "execution_count": null,
   "id": "54026201",
   "metadata": {},
   "outputs": [
    {
     "name": "stdout",
     "output_type": "stream",
     "text": [
      "3\n"
     ]
    }
   ],
   "source": [
    "class Solution(object):\n",
    "    def lengthOfLongestSubstring(self, s):        \n",
    "        seen = set()\n",
    "        max_len = 0\n",
    "        left = 0\n",
    "\n",
    "        for right in range(len(s)):\n",
    "            while s[right] in seen:\n",
    "                seen.remove(s[left])\n",
    "                left += 1\n",
    "            seen.add(s[right])\n",
    "            max_len = max(max_len, right - left + 1)\n",
    "\n",
    "        return max_len\n",
    "\n",
    "sol = Solution()\n",
    "print(sol.lengthOfLongestSubstring(\"pwwkew\"))\n",
    "\n",
    "# --- JAVA Implementation ---\n",
    "# public int lengthOfLongestSubstring(String s) {\n",
    "#     Set<Character> seen = new HashSet<>();\n",
    "#     int max_len = 0;\n",
    "#     int left = 0;\n",
    "#     for (int right = 0; right < s.length(); right++) {\n",
    "#         while (seen.contains(s.charAt(right))) {\n",
    "#             seen.remove(s.charAt(left));\n",
    "#             left++;\n",
    "#         }\n",
    "#         seen.add(s.charAt(right));\n",
    "#         max_len = Math.max(max_len, right - left + 1);\n",
    "#     }\n",
    "#     return max_len;\n",
    "# }\n"
   ]
  },
  {
   "cell_type": "markdown",
   "id": "460153ef",
   "metadata": {},
   "source": [
    "**242. Valid Anagram**"
   ]
  },
  {
   "cell_type": "code",
   "execution_count": null,
   "id": "a28c1ead",
   "metadata": {},
   "outputs": [
    {
     "name": "stdout",
     "output_type": "stream",
     "text": [
      "True\n"
     ]
    }
   ],
   "source": [
    "from collections import Counter\n",
    "\n",
    "class Solution(object):\n",
    "    def isAnagram(self, s, t):\n",
    "\n",
    "        return Counter(s) == Counter(t)\n",
    "    \n",
    "        # --- ALTERNATIVE ---\n",
    "\n",
    "        # if len(s) != len(t):\n",
    "        #     return False\n",
    "        # countS, countT = {}, {}\n",
    "\n",
    "        # for i in range(len(s)):\n",
    "        #     countS[s[i]] = 1 + countS.get(s[i], 0)\n",
    "        #     countT[t[i]] = 1 + countT.get(t[i],\n",
    "        # return countS == countT\n",
    "\n",
    "sol = Solution()\n",
    "print(sol.isAnagram(\"anagram\", \"nagaram\"))\n",
    "\n",
    "# --- JAVA Implementation ---\n",
    "\n",
    "# public boolean isAnagram(String s, String t) {\n",
    "#     if (s.length() != t.length()) {\n",
    "#         return false;\n",
    "#     }\n",
    "#     int[] countS = new int[26];\n",
    "#     int[] countT = new int[26];\n",
    "#     for (int i = 0; i < s.length(); i++) {\n",
    "#         countS[s.charAt(i) - 'a']++;\n",
    "#         countT[t.charAt(i) - 'a']++;\n",
    "#     }\n",
    "#     return Arrays.equals(countS, countT);\n",
    "# }\n"
   ]
  }
 ],
 "metadata": {
  "kernelspec": {
   "display_name": "Python 3",
   "language": "python",
   "name": "python3"
  },
  "language_info": {
   "codemirror_mode": {
    "name": "ipython",
    "version": 3
   },
   "file_extension": ".py",
   "mimetype": "text/x-python",
   "name": "python",
   "nbconvert_exporter": "python",
   "pygments_lexer": "ipython3",
   "version": "3.13.1"
  }
 },
 "nbformat": 4,
 "nbformat_minor": 5
}
