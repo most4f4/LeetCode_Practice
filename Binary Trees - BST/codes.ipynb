{
 "cells": [
  {
   "cell_type": "markdown",
   "id": "179154e4",
   "metadata": {},
   "source": [
    "**94. Binary Tree Inorder Traversal"
   ]
  },
  {
   "cell_type": "code",
   "execution_count": null,
   "id": "a133a0a2",
   "metadata": {},
   "outputs": [],
   "source": [
    "# Definition for a binary tree node.\n",
    "# class TreeNode(object):\n",
    "#     def __init__(self, val=0, left=None, right=None):\n",
    "#         self.val = val\n",
    "#         self.left = left\n",
    "#         self.right = right\n",
    "\n",
    "class Solution(object):\n",
    "    def inorderTraversal(self, root):\n",
    "        \"\"\"\n",
    "        :type root: Optional[TreeNode]\n",
    "        :rtype: List[int]\n",
    "        \"\"\"\n",
    "        res = []\n",
    "        def dfs(node):\n",
    "            if node is None:\n",
    "                return\n",
    "            dfs(node.left)\n",
    "            res.append(node.val)\n",
    "            dfs(node.right)\n",
    "        \n",
    "        dfs(root)\n",
    "        return res\n",
    "\n",
    "        # Alternative:\n",
    "        # return self.inorderTraversal(root.left) + [root.val] + self.inorderTraversal(root.right) if root else []\n",
    "\n",
    "sol = Solution()\n",
    "# Example usage:\n",
    "print(sol.inorderTraversal([1,None,2,3])) # Output: [1,3,2]\n",
    "\n",
    "\n",
    "\n",
    "\n",
    "            \n",
    "\n",
    "        \n",
    "\n",
    "\n",
    "        "
   ]
  }
 ],
 "metadata": {
  "kernelspec": {
   "display_name": "Python 3",
   "language": "python",
   "name": "python3"
  },
  "language_info": {
   "name": "python",
   "version": "3.13.1"
  }
 },
 "nbformat": 4,
 "nbformat_minor": 5
}
