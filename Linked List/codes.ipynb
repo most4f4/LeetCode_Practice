{
 "cells": [
  {
   "cell_type": "code",
   "execution_count": 1,
   "id": "6cd4758e",
   "metadata": {},
   "outputs": [],
   "source": [
    "class ListNode:\n",
    "    def __init__(self, val=0, next=None):\n",
    "        self.val = val\n",
    "        self.next = next\n",
    "\n",
    "# Convert list → linked list\n",
    "def build_linked_list(values):\n",
    "    if not values:\n",
    "        return None\n",
    "    \n",
    "    head = ListNode(values[0])\n",
    "\n",
    "    current = head\n",
    "\n",
    "    for val in values[1:]:\n",
    "        current.next = ListNode(val)\n",
    "        current = current.next\n",
    "    return head\n",
    "\n",
    "# Convert linked list → list (to check result)\n",
    "\n",
    "def linked_list_to_list(head):\n",
    "    result = []\n",
    "    current = head\n",
    "    while current:\n",
    "        result.append(current.val)\n",
    "        current = current.next\n",
    "    return result\n"
   ]
  },
  {
   "cell_type": "markdown",
   "id": "d500d6e6",
   "metadata": {},
   "source": [
    "**206. Reverse Linked List**"
   ]
  },
  {
   "cell_type": "code",
   "execution_count": 2,
   "id": "4cdcfb18",
   "metadata": {},
   "outputs": [
    {
     "name": "stdout",
     "output_type": "stream",
     "text": [
      "[5, 4, 3, 2, 1]\n"
     ]
    }
   ],
   "source": [
    "def reverseList(head):\n",
    "    prev = None\n",
    "    current = head\n",
    "    \n",
    "    while current:\n",
    "        next_node = current.next  # store next node\n",
    "        current.next = prev       # reverse pointer\n",
    "        prev = current            # move prev forward\n",
    "        current = next_node       # move current forward\n",
    "    \n",
    "    return prev  # new head\n",
    "\n",
    "input = [1,2,3,4,5]\n",
    "\n",
    "# Build linked list from Python list\n",
    "head = build_linked_list([1,2,3,4,5])\n",
    "\n",
    "# Reverse it\n",
    "new_head = reverseList(head)\n",
    "\n",
    "# Convert back to Python list to check\n",
    "print(linked_list_to_list(new_head))  # Expected: [5,4,3,2,1]"
   ]
  }
 ],
 "metadata": {
  "kernelspec": {
   "display_name": "Python 3",
   "language": "python",
   "name": "python3"
  },
  "language_info": {
   "codemirror_mode": {
    "name": "ipython",
    "version": 3
   },
   "file_extension": ".py",
   "mimetype": "text/x-python",
   "name": "python",
   "nbconvert_exporter": "python",
   "pygments_lexer": "ipython3",
   "version": "3.13.1"
  }
 },
 "nbformat": 4,
 "nbformat_minor": 5
}
