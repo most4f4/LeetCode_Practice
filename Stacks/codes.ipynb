{
 "cells": [
  {
   "cell_type": "markdown",
   "id": "dcd16754",
   "metadata": {},
   "source": [
    "**20. Valid Parentheses**"
   ]
  },
  {
   "cell_type": "code",
   "execution_count": 1,
   "id": "4059a98f",
   "metadata": {},
   "outputs": [
    {
     "name": "stdout",
     "output_type": "stream",
     "text": [
      "True\n"
     ]
    }
   ],
   "source": [
    "class Solution(object):\n",
    "    def isValid(self, s):\n",
    "        \"\"\"\n",
    "        :type s: str\n",
    "        :rtype: bool\n",
    "        \"\"\"\n",
    "\n",
    "        stack = []\n",
    "        mapping = {')': '(', '}': '{', ']': '['}\n",
    "\n",
    "        for char in s:\n",
    "            if char in mapping:\n",
    "                top_element = stack.pop() if stack else '#'\n",
    "                if top_element != mapping[char]:\n",
    "                    return False\n",
    "            else:\n",
    "                stack.append(char)\n",
    "\n",
    "        return not stack\n",
    "\n",
    "input = \"([])\"\n",
    "s = Solution()\n",
    "print(s.isValid(input))"
   ]
  },
  {
   "cell_type": "markdown",
   "id": "39d3bfc5",
   "metadata": {},
   "source": [
    "**155. Min Stack**"
   ]
  },
  {
   "cell_type": "code",
   "execution_count": 5,
   "id": "bc8551b8",
   "metadata": {},
   "outputs": [
    {
     "name": "stdout",
     "output_type": "stream",
     "text": [
      "Top element is: 4\n",
      "Minimum element is: 1\n"
     ]
    }
   ],
   "source": [
    "class MinStack(object):\n",
    "\n",
    "    def __init__(self):\n",
    "        self.stack = []\n",
    "        self.min_stack = []\n",
    "        \n",
    "    def push(self, val):\n",
    "        self.stack.append(val)\n",
    "\n",
    "        if not self.min_stack or val <= self.min_stack[-1]:\n",
    "            self.min_stack.append(val)\n",
    "        \n",
    "    def pop(self):\n",
    "        val = self.stack.pop()\n",
    "        # if the popped value was also the min, pop from min_stack\n",
    "        if val == self.min_stack[-1]:\n",
    "            self.min_stack.pop()\n",
    "        \n",
    "\n",
    "    def top(self):\n",
    "        return self.stack[-1]\n",
    "        \n",
    "\n",
    "    def getMin(self):\n",
    "        return self.min_stack[-1] \n",
    "        \n",
    "\n",
    "\n",
    "# Your MinStack object will be instantiated and called as such:\n",
    "obj = MinStack()\n",
    "obj.push(3)\n",
    "obj.push(5)\n",
    "obj.push(2)\n",
    "obj.push(1)\n",
    "obj.push(4)\n",
    "obj.push(6)\n",
    "obj.pop()\n",
    "param_3 = obj.top()\n",
    "param_4 = obj.getMin()\n",
    "\n",
    "print(f\"Top element is: {param_3}\")\n",
    "print(f\"Minimum element is: {param_4}\")"
   ]
  }
 ],
 "metadata": {
  "kernelspec": {
   "display_name": "Python 3",
   "language": "python",
   "name": "python3"
  },
  "language_info": {
   "codemirror_mode": {
    "name": "ipython",
    "version": 3
   },
   "file_extension": ".py",
   "mimetype": "text/x-python",
   "name": "python",
   "nbconvert_exporter": "python",
   "pygments_lexer": "ipython3",
   "version": "3.13.1"
  }
 },
 "nbformat": 4,
 "nbformat_minor": 5
}
