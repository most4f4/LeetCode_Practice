{
 "cells": [
  {
   "cell_type": "markdown",
   "id": "d5be2c32",
   "metadata": {},
   "source": [
    "**703. Kth Largest Element in a Stream**"
   ]
  },
  {
   "cell_type": "code",
   "execution_count": null,
   "id": "d9726ec8",
   "metadata": {},
   "outputs": [
    {
     "name": "stdout",
     "output_type": "stream",
     "text": [
      "5\n"
     ]
    }
   ],
   "source": [
    "import heapq\n",
    "\n",
    "class KthLargest(object):\n",
    "\n",
    "    def __init__(self, k, nums):\n",
    "        \"\"\"\n",
    "        :type k: int\n",
    "        :type nums: List[int]\n",
    "        \"\"\"\n",
    "        self.minHeap = nums\n",
    "        self.k = k\n",
    "        heapq.heapify(self.minHeap)\n",
    "\n",
    "        while k < len(self.minHeap):\n",
    "            heapq.heappop(self.minHeap)\n",
    "        \n",
    "\n",
    "    def add(self, val):\n",
    "        \"\"\"\n",
    "        :type val: int\n",
    "        :rtype: int\n",
    "        \"\"\"\n",
    "        if len(self.minHeap) < self.k:\n",
    "            heapq.heappush(self.minHeap, val)\n",
    "        elif val > self.minHeap[0]:\n",
    "            heapq.heappush(self.minHeap, val)\n",
    "            heapq.heappop(self.minHeap)\n",
    "        return self.minHeap[0]\n",
    "        \n",
    "\n",
    "# See example usage below:\n",
    "# Your KthLargest object will be instantiated and called as such:\n",
    "# obj = KthLargest(k, nums)\n",
    "# param_1 = obj.add(val)\n",
    "\n",
    "test = KthLargest(3, [4,5,8,2])\n",
    "print(test.add(6))   # return 5"
   ]
  },
  {
   "cell_type": "markdown",
   "id": "dcb72516",
   "metadata": {},
   "source": [
    "**215. Kth Largest Element in an Array**"
   ]
  },
  {
   "cell_type": "code",
   "execution_count": 5,
   "id": "cbb278fa",
   "metadata": {},
   "outputs": [
    {
     "name": "stdout",
     "output_type": "stream",
     "text": [
      "5\n"
     ]
    }
   ],
   "source": [
    "import heapq\n",
    "\n",
    "class Solution(object):\n",
    "    def findKthLargest(self, nums, k):\n",
    "        \"\"\"\n",
    "        :type nums: List[int]\n",
    "        :type k: int\n",
    "        :rtype: int\n",
    "        \"\"\"\n",
    "\n",
    "        minHeap = []\n",
    "\n",
    "        for num in nums:\n",
    "            if len(minHeap) < k:\n",
    "                heapq.heappush(minHeap, num)\n",
    "            elif num > minHeap[0]:\n",
    "                heapq.heappush(minHeap, num)\n",
    "                heapq.heappop(minHeap)\n",
    "\n",
    "        return minHeap[0]\n",
    "\n",
    "\n",
    "sol = Solution()\n",
    "print(sol.findKthLargest([3,2,1,5,6,4], 2))  # return 5   \n",
    "  "
   ]
  }
 ],
 "metadata": {
  "kernelspec": {
   "display_name": "Python 3",
   "language": "python",
   "name": "python3"
  },
  "language_info": {
   "codemirror_mode": {
    "name": "ipython",
    "version": 3
   },
   "file_extension": ".py",
   "mimetype": "text/x-python",
   "name": "python",
   "nbconvert_exporter": "python",
   "pygments_lexer": "ipython3",
   "version": "3.13.1"
  }
 },
 "nbformat": 4,
 "nbformat_minor": 5
}
