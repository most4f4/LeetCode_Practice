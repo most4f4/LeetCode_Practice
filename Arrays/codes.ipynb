{
 "cells": [
  {
   "cell_type": "markdown",
   "id": "cd23f9a4",
   "metadata": {
    "vscode": {
     "languageId": "plaintext"
    }
   },
   "source": [
    "**26. Remove Duplicates from Sorted Array**"
   ]
  },
  {
   "cell_type": "code",
   "execution_count": 1,
   "id": "305e7a47",
   "metadata": {},
   "outputs": [
    {
     "name": "stdout",
     "output_type": "stream",
     "text": [
      "5\n",
      "[0, 1, 2, 3, 4]\n"
     ]
    }
   ],
   "source": [
    "def removeDuplicates(nums):\n",
    "    temp = []\n",
    "    for num in nums:\n",
    "        if len(temp) == 0:\n",
    "            temp.append(num)\n",
    "        elif num != temp[-1]:\n",
    "            temp.append(num)\n",
    "    nums[:] = temp\n",
    "    return len(nums)\n",
    "\n",
    "nums = [0,0,1,1,1,2,2,3,3,4]\n",
    "print(removeDuplicates(nums))\n",
    "print(nums)\n"
   ]
  },
  {
   "cell_type": "markdown",
   "id": "acc8edc5",
   "metadata": {},
   "source": [
    "**27. Remove Element**"
   ]
  },
  {
   "cell_type": "code",
   "execution_count": null,
   "id": "9ff68a25",
   "metadata": {},
   "outputs": [
    {
     "name": "stdout",
     "output_type": "stream",
     "text": [
      "5\n",
      "[0, 1, 3, 0, 4, 0, 4, 2]\n"
     ]
    }
   ],
   "source": [
    "def removeElement(nums, val):\n",
    "    k = 0\n",
    "\n",
    "    for num in nums:\n",
    "        if num != val:\n",
    "            nums[k] = num   \n",
    "            k += 1\n",
    "\n",
    "    return k\n",
    "\n",
    "nums = [0,1,2,2,3,0,4,2]\n",
    "val = 2\n",
    "\n",
    "print(removeElement(nums, val))\n",
    "print(nums)"
   ]
  },
  {
   "cell_type": "markdown",
   "id": "5254e7b6",
   "metadata": {},
   "source": [
    "**134. Gas Station**"
   ]
  },
  {
   "cell_type": "code",
   "execution_count": 1,
   "id": "e0f2605b",
   "metadata": {},
   "outputs": [
    {
     "name": "stdout",
     "output_type": "stream",
     "text": [
      "3\n"
     ]
    }
   ],
   "source": [
    "class Solution(object):\n",
    "    def canCompleteCircuit(self, gas, cost):\n",
    "        if sum(gas) < sum(cost):\n",
    "            return -1\n",
    "\n",
    "        start = 0\n",
    "        tank = 0\n",
    "\n",
    "        for i in range(len(gas)):\n",
    "            tank += gas[i] - cost[i]\n",
    "            if tank < 0:\n",
    "                start = i + 1\n",
    "                tank = 0\n",
    "\n",
    "        return start\n",
    "    \n",
    "sol = Solution()\n",
    "gas = [1,2,3,4,5]\n",
    "cost = [3,4,5,1,2]\n",
    "print(sol.canCompleteCircuit(gas, cost))"
   ]
  }
 ],
 "metadata": {
  "kernelspec": {
   "display_name": "Python 3",
   "language": "python",
   "name": "python3"
  },
  "language_info": {
   "codemirror_mode": {
    "name": "ipython",
    "version": 3
   },
   "file_extension": ".py",
   "mimetype": "text/x-python",
   "name": "python",
   "nbconvert_exporter": "python",
   "pygments_lexer": "ipython3",
   "version": "3.13.1"
  }
 },
 "nbformat": 4,
 "nbformat_minor": 5
}
