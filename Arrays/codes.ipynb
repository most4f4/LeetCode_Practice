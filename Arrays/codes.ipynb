{
 "cells": [
  {
   "cell_type": "markdown",
   "id": "cd23f9a4",
   "metadata": {
    "vscode": {
     "languageId": "plaintext"
    }
   },
   "source": [
    "**26. Remove Duplicates from Sorted Array**"
   ]
  },
  {
   "cell_type": "code",
   "execution_count": null,
   "id": "305e7a47",
   "metadata": {},
   "outputs": [
    {
     "name": "stdout",
     "output_type": "stream",
     "text": [
      "5\n",
      "[0, 1, 2, 3, 4]\n"
     ]
    }
   ],
   "source": [
    "def removeDuplicates(nums):\n",
    "    temp = []\n",
    "    for num in nums:\n",
    "        if len(temp) == 0:\n",
    "            temp.append(num)\n",
    "        elif num != temp[-1]:\n",
    "            temp.append(num)\n",
    "    nums[:] = temp\n",
    "    return len(nums)\n",
    "\n",
    "    ## Solution without extra space\n",
    "    # if not nums:\n",
    "    #     return 0\n",
    "    \n",
    "    # write_index = 1\n",
    "    # for i in range(1, len(nums)):\n",
    "    #     if nums[i] != nums[i - 1]:\n",
    "    #         nums[write_index] = nums[i]\n",
    "    #         write_index += 1\n",
    "\n",
    "    # return write_index\n",
    "\n",
    "    ## Another solution \n",
    "    # nums[:]=list(set(nums))\n",
    "    # nums.sort()\n",
    "    # return len(nums)\n",
    "\n",
    "nums = [0,0,1,1,1,2,2,3,3,4]\n",
    "print(removeDuplicates(nums))\n",
    "print(nums)\n"
   ]
  },
  {
   "cell_type": "markdown",
   "id": "acc8edc5",
   "metadata": {},
   "source": [
    "**27. Remove Element**"
   ]
  },
  {
   "cell_type": "code",
   "execution_count": null,
   "id": "9ff68a25",
   "metadata": {},
   "outputs": [
    {
     "name": "stdout",
     "output_type": "stream",
     "text": [
      "5\n",
      "[0, 1, 3, 0, 4, 0, 4, 2]\n"
     ]
    }
   ],
   "source": [
    "def removeElement(nums, val):\n",
    "    k = 0\n",
    "\n",
    "    for num in nums:\n",
    "        if num != val:\n",
    "            nums[k] = num   \n",
    "            k += 1\n",
    "\n",
    "    return k\n",
    "\n",
    "nums = [0,1,2,2,3,0,4,2]\n",
    "val = 2\n",
    "\n",
    "print(removeElement(nums, val))\n",
    "print(nums)"
   ]
  },
  {
   "cell_type": "markdown",
   "id": "5254e7b6",
   "metadata": {},
   "source": [
    "**134. Gas Station**"
   ]
  },
  {
   "cell_type": "code",
   "execution_count": 1,
   "id": "e0f2605b",
   "metadata": {},
   "outputs": [
    {
     "name": "stdout",
     "output_type": "stream",
     "text": [
      "3\n"
     ]
    }
   ],
   "source": [
    "class Solution(object):\n",
    "    def canCompleteCircuit(self, gas, cost):\n",
    "        if sum(gas) < sum(cost):\n",
    "            return -1\n",
    "\n",
    "        start = 0\n",
    "        tank = 0\n",
    "\n",
    "        for i in range(len(gas)):\n",
    "            tank += gas[i] - cost[i]\n",
    "            if tank < 0:\n",
    "                start = i + 1\n",
    "                tank = 0\n",
    "\n",
    "        return start\n",
    "    \n",
    "sol = Solution()\n",
    "gas = [1,2,3,4,5]\n",
    "cost = [3,4,5,1,2]\n",
    "print(sol.canCompleteCircuit(gas, cost))"
   ]
  },
  {
   "cell_type": "markdown",
   "id": "0fd60fa4",
   "metadata": {},
   "source": [
    "**41. First Missing Positive**"
   ]
  },
  {
   "cell_type": "code",
   "execution_count": null,
   "id": "401b057d",
   "metadata": {},
   "outputs": [
    {
     "name": "stdout",
     "output_type": "stream",
     "text": [
      "2\n"
     ]
    }
   ],
   "source": [
    "class Solution(object):\n",
    "    def firstMissingPositive(self, nums):\n",
    "        \"\"\"\n",
    "        :type nums: List[int]\n",
    "        :rtype: int\n",
    "        \"\"\"\n",
    "\n",
    "        def swap(arr, i, j):\n",
    "            arr[i], arr[j] = arr[j], arr[i]\n",
    "\n",
    "        n = len(nums)\n",
    "\n",
    "        for i in range(n):\n",
    "            while 1 <= nums[i] <= n and nums[i] != nums[nums[i] - 1]:\n",
    "                swap(nums, i, nums[i] - 1)\n",
    "        \n",
    "        for i in range(n):\n",
    "            if nums[i] != i + 1:\n",
    "                return i + 1\n",
    "\n",
    "        return n + 1\n",
    "    \n",
    "\n",
    "sol = Solution()\n",
    "nums = [3,4,-1,1]\n",
    "print(sol.firstMissingPositive(nums))\n",
    "\n",
    "\n",
    "# --- JAVA Implementation ---\n",
    "\n",
    "# class Solution {\n",
    "#     public int firstMissingPositive(int[] nums) {\n",
    "#         int n = nums.length;\n",
    "\n",
    "#         # Step 1: place each number in its correct position\n",
    "#         for (int i = 0; i < n; i++) {\n",
    "#             // swap nums[i] with nums[nums[i]-1] if it's in range and not in correct place\n",
    "#             while (nums[i] > 0 && nums[i] <= n && nums[nums[i] - 1] != nums[i]) {\n",
    "#                 int temp = nums[nums[i] - 1];\n",
    "#                 nums[nums[i] - 1] = nums[i];\n",
    "#                 nums[i] = temp;\n",
    "#             }\n",
    "#         }\n",
    "\n",
    "#         # Step 2: find the first index where nums[i] != i + 1\n",
    "#         for (int i = 0; i < n; i++) {\n",
    "#             if (nums[i] != i + 1) {\n",
    "#                 return i + 1;\n",
    "#             }\n",
    "#         }\n",
    "\n",
    "#         # Step 3: if all positions are correct, missing number is n+1\n",
    "#         return n + 1;\n",
    "#     }\n",
    "# }\n"
   ]
  }
 ],
 "metadata": {
  "kernelspec": {
   "display_name": "Python 3",
   "language": "python",
   "name": "python3"
  },
  "language_info": {
   "codemirror_mode": {
    "name": "ipython",
    "version": 3
   },
   "file_extension": ".py",
   "mimetype": "text/x-python",
   "name": "python",
   "nbconvert_exporter": "python",
   "pygments_lexer": "ipython3",
   "version": "3.13.1"
  }
 },
 "nbformat": 4,
 "nbformat_minor": 5
}
